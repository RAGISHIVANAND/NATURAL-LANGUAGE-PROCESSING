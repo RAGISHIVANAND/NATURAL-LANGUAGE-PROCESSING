{
  "nbformat": 4,
  "nbformat_minor": 0,
  "metadata": {
    "colab": {
      "provenance": [],
      "authorship_tag": "ABX9TyMXHsJ7Oa7ZsVqh03UKhUD8",
      "include_colab_link": true
    },
    "kernelspec": {
      "name": "python3",
      "display_name": "Python 3"
    },
    "language_info": {
      "name": "python"
    }
  },
  "cells": [
    {
      "cell_type": "markdown",
      "metadata": {
        "id": "view-in-github",
        "colab_type": "text"
      },
      "source": [
        "<a href=\"https://colab.research.google.com/github/RAGISHIVANAND/NATURAL-LANGUAGE-PROCESSING/blob/main/NLP_REGULAR_EXPRESSIONS.ipynb\" target=\"_parent\"><img src=\"https://colab.research.google.com/assets/colab-badge.svg\" alt=\"Open In Colab\"/></a>"
      ]
    },
    {
      "cell_type": "code",
      "execution_count": 2,
      "metadata": {
        "id": "UweJyVVgks_t"
      },
      "outputs": [],
      "source": [
        "import re"
      ]
    },
    {
      "cell_type": "code",
      "source": [
        "my_folder = r\"C:\\desktop\\notes\"\n",
        "print(my_folder)"
      ],
      "metadata": {
        "colab": {
          "base_uri": "https://localhost:8080/"
        },
        "id": "nZfq6mWP-0rD",
        "outputId": "72ea68fc-14ef-482b-9699-8e6514c5831f"
      },
      "execution_count": 3,
      "outputs": [
        {
          "output_type": "stream",
          "name": "stdout",
          "text": [
            "C:\\desktop\\notes\n"
          ]
        }
      ]
    },
    {
      "cell_type": "code",
      "source": [
        "result_search = re.search(\"pattern\",r\"string to contain the pattern\")"
      ],
      "metadata": {
        "id": "WPFyOjheCED_"
      },
      "execution_count": 4,
      "outputs": []
    },
    {
      "cell_type": "code",
      "source": [
        "print(result_search)"
      ],
      "metadata": {
        "colab": {
          "base_uri": "https://localhost:8080/"
        },
        "id": "F_8zuJYAJUZE",
        "outputId": "f74c9bc8-7bd3-422b-8c48-d3d713beb059"
      },
      "execution_count": 5,
      "outputs": [
        {
          "output_type": "stream",
          "name": "stdout",
          "text": [
            "<re.Match object; span=(22, 29), match='pattern'>\n"
          ]
        }
      ]
    },
    {
      "cell_type": "code",
      "source": [
        "result_search_2 = re.search(\"pattern\",r\"the phrase to find isn't in this string\")\n",
        "print(result_search_2)"
      ],
      "metadata": {
        "colab": {
          "base_uri": "https://localhost:8080/"
        },
        "id": "JTX-1AaTJX-x",
        "outputId": "9361c0d6-d931-48b6-8edd-3d642c16783d"
      },
      "execution_count": 6,
      "outputs": [
        {
          "output_type": "stream",
          "name": "stdout",
          "text": [
            "None\n"
          ]
        }
      ]
    },
    {
      "cell_type": "code",
      "source": [
        "string = r\"sara was able to help me find the items I needed quickly\""
      ],
      "metadata": {
        "id": "IIt9b-bFKf6n"
      },
      "execution_count": 7,
      "outputs": []
    },
    {
      "cell_type": "code",
      "source": [
        "new_string = re.sub(\"sara\",\"sarah\",string)\n",
        "print(new_string)"
      ],
      "metadata": {
        "colab": {
          "base_uri": "https://localhost:8080/"
        },
        "id": "LiZ_l3MRNiWU",
        "outputId": "a85569ed-dd50-45b8-c581-c3b3749ec54a"
      },
      "execution_count": 8,
      "outputs": [
        {
          "output_type": "stream",
          "name": "stdout",
          "text": [
            "sarah was able to help me find the items I needed quickly\n"
          ]
        }
      ]
    },
    {
      "cell_type": "code",
      "source": [
        "customer_reviews = [\"sam was a great help to me in the store\",\n",
        "                    \"the cashier was very rude to me,I think her name was eleanor\",\n",
        "                    \"amazing work from sadeen|\",\n",
        "                    \"sarah was able to help me find the items I needed quickly\",\n",
        "                    \"lucy is such a great addition to the team\",\n",
        "                    \"great service from sara she found me what i wanted\"]"
      ],
      "metadata": {
        "id": "VxAMEXTPQ-Lt"
      },
      "execution_count": 39,
      "outputs": []
    },
    {
      "cell_type": "code",
      "source": [
        "sarahs_reviews = []"
      ],
      "metadata": {
        "id": "g-kNnjfiV6gA"
      },
      "execution_count": 40,
      "outputs": []
    },
    {
      "cell_type": "code",
      "source": [
        "pattern_to_find = r\"sarah?\""
      ],
      "metadata": {
        "id": "sT3d1lryWoZa"
      },
      "execution_count": 41,
      "outputs": []
    },
    {
      "cell_type": "code",
      "source": [
        "for string in customer_reviews:\n",
        "    if(re.search(pattern_to_find,string)):\n",
        "      sarahs_reviews.append(string)"
      ],
      "metadata": {
        "id": "DSy29rfPXxiC"
      },
      "execution_count": 42,
      "outputs": []
    },
    {
      "cell_type": "code",
      "source": [
        "print(sarahs_reviews)"
      ],
      "metadata": {
        "colab": {
          "base_uri": "https://localhost:8080/"
        },
        "id": "Nr6ly1D8HrCX",
        "outputId": "1d9aee79-37b7-44bb-e0e8-b37ff91a6668"
      },
      "execution_count": 43,
      "outputs": [
        {
          "output_type": "stream",
          "name": "stdout",
          "text": [
            "['sarah was able to help me find the items I needed quickly', 'great service from sara she found me what i wanted']\n"
          ]
        }
      ]
    },
    {
      "cell_type": "code",
      "source": [
        "a_reviews = []\n",
        "pattern_to_find = r\"^a\"\n",
        "\n",
        "for string in customer_reviews:\n",
        "    if(re.search(pattern_to_find,string)):\n",
        "       a_reviews.append(string)"
      ],
      "metadata": {
        "id": "B0LmsSoFIBQB"
      },
      "execution_count": 44,
      "outputs": []
    },
    {
      "cell_type": "code",
      "source": [
        "print(a_reviews)"
      ],
      "metadata": {
        "colab": {
          "base_uri": "https://localhost:8080/"
        },
        "id": "UYjHiu9dMg1N",
        "outputId": "47749cad-c8a0-4ca5-85ff-958101845be1"
      },
      "execution_count": 45,
      "outputs": [
        {
          "output_type": "stream",
          "name": "stdout",
          "text": [
            "['amazing work from sadeen|']\n"
          ]
        }
      ]
    },
    {
      "cell_type": "code",
      "source": [
        "y_reviews = []\n",
        "pattern_to_find = r\"y$\"\n",
        "\n",
        "for string in customer_reviews:\n",
        "    if(re.search(pattern_to_find,string)):\n",
        "       y_reviews.append(string)"
      ],
      "metadata": {
        "id": "gNsTcProMrWQ"
      },
      "execution_count": 46,
      "outputs": []
    },
    {
      "cell_type": "code",
      "source": [
        "print(y_reviews)"
      ],
      "metadata": {
        "colab": {
          "base_uri": "https://localhost:8080/"
        },
        "id": "l6Ys-ULNOrUy",
        "outputId": "165d03b2-a4d7-411e-d9c2-bac78d20e017"
      },
      "execution_count": 47,
      "outputs": [
        {
          "output_type": "stream",
          "name": "stdout",
          "text": [
            "['sarah was able to help me find the items I needed quickly']\n"
          ]
        }
      ]
    },
    {
      "cell_type": "code",
      "source": [
        "needwant_reviews = []\n",
        "pattern_to_find = r\"(need|want)ed\"\n",
        "\n",
        "for string in customer_reviews:\n",
        "    if (re.search(pattern_to_find,string)):\n",
        "       needwant_reviews.append(string)"
      ],
      "metadata": {
        "id": "XnpN1IrIOwho"
      },
      "execution_count": 48,
      "outputs": []
    },
    {
      "cell_type": "code",
      "source": [
        "print(needwant_reviews)"
      ],
      "metadata": {
        "colab": {
          "base_uri": "https://localhost:8080/"
        },
        "id": "194ynrYzS0MU",
        "outputId": "87b4b597-f922-44c3-854e-b9fda08a0ffd"
      },
      "execution_count": 49,
      "outputs": [
        {
          "output_type": "stream",
          "name": "stdout",
          "text": [
            "['sarah was able to help me find the items I needed quickly', 'great service from sara she found me what i wanted']\n"
          ]
        }
      ]
    },
    {
      "cell_type": "code",
      "source": [
        "no_punct_reviews = []\n",
        "pattern_to_find = r\"[^\\w\\s]\""
      ],
      "metadata": {
        "id": "02eLNpQ3S3wa"
      },
      "execution_count": 51,
      "outputs": []
    },
    {
      "cell_type": "code",
      "source": [
        "for string in customer_reviews:\n",
        "    no_punct_string = re.sub(pattern_to_find,\"\",string)\n",
        "    no_punct_reviews.append(no_punct_string)"
      ],
      "metadata": {
        "id": "2P-QZIfCWiFD"
      },
      "execution_count": 53,
      "outputs": []
    },
    {
      "cell_type": "code",
      "source": [
        "print(no_punct_reviews)"
      ],
      "metadata": {
        "colab": {
          "base_uri": "https://localhost:8080/"
        },
        "id": "kpxLdJRDWtC8",
        "outputId": "08a7ec7f-2508-46db-e205-82e43aa011c7"
      },
      "execution_count": 54,
      "outputs": [
        {
          "output_type": "stream",
          "name": "stdout",
          "text": [
            "['sam was a great help to me in the store', 'the cashier was very rude to meI think her name was eleanor', 'amazing work from sadeen', 'sarah was able to help me find the items I needed quickly', 'lucy is such a great addition to the team', 'great service from sara she found me what i wanted']\n"
          ]
        }
      ]
    },
    {
      "cell_type": "code",
      "source": [],
      "metadata": {
        "id": "QuhO5LuyZ5ma"
      },
      "execution_count": null,
      "outputs": []
    }
  ]
}