{
  "nbformat": 4,
  "nbformat_minor": 0,
  "metadata": {
    "colab": {
      "provenance": [],
      "authorship_tag": "ABX9TyO3t7F95zd/ZAQi9zFZZjrm",
      "include_colab_link": true
    },
    "kernelspec": {
      "name": "python3",
      "display_name": "Python 3"
    },
    "language_info": {
      "name": "python"
    }
  },
  "cells": [
    {
      "cell_type": "markdown",
      "metadata": {
        "id": "view-in-github",
        "colab_type": "text"
      },
      "source": [
        "<a href=\"https://colab.research.google.com/github/RAGISHIVANAND/NATURAL-LANGUAGE-PROCESSING/blob/main/Natural_Language_Processing.ipynb\" target=\"_parent\"><img src=\"https://colab.research.google.com/assets/colab-badge.svg\" alt=\"Open In Colab\"/></a>"
      ]
    },
    {
      "cell_type": "markdown",
      "source": [
        "# ***NLP LOWER CASE***"
      ],
      "metadata": {
        "id": "8Gl3UNlhGbOp"
      }
    },
    {
      "cell_type": "code",
      "execution_count": 1,
      "metadata": {
        "id": "1mnUGSA7FQUL"
      },
      "outputs": [],
      "source": [
        "sentence = \"Her cat's name is Luna\""
      ]
    },
    {
      "cell_type": "code",
      "source": [
        "lower_sentence = sentence.lower()"
      ],
      "metadata": {
        "id": "Kw1sIwlgFv7X"
      },
      "execution_count": 2,
      "outputs": []
    },
    {
      "cell_type": "code",
      "source": [
        "print(lower_sentence)"
      ],
      "metadata": {
        "colab": {
          "base_uri": "https://localhost:8080/"
        },
        "id": "RhfoEbS4FzWo",
        "outputId": "0b9ec0c5-553f-4599-8d02-9b1e2f4430c8"
      },
      "execution_count": 3,
      "outputs": [
        {
          "output_type": "stream",
          "name": "stdout",
          "text": [
            "her cat's name is luna\n"
          ]
        }
      ]
    },
    {
      "cell_type": "code",
      "source": [
        "sentence_list = [ 'could you pass me the TV remote?',\n",
        "                 'It is IMPOSSIBLE to find this hotel',\n",
        "                  'want to go for dinner on Tuesday?']"
      ],
      "metadata": {
        "id": "nJ2Vl9klF2QT"
      },
      "execution_count": 4,
      "outputs": []
    },
    {
      "cell_type": "code",
      "source": [
        "lower_sentence_list = [x.lower() for x in sentence_list]\n",
        "print(lower_sentence_list)"
      ],
      "metadata": {
        "colab": {
          "base_uri": "https://localhost:8080/"
        },
        "id": "imtg2_ygF5gl",
        "outputId": "6d3715a4-53e9-418a-da14-0bf839612ff7"
      },
      "execution_count": 5,
      "outputs": [
        {
          "output_type": "stream",
          "name": "stdout",
          "text": [
            "['could you pass me the tv remote?', 'it is impossible to find this hotel', 'want to go for dinner on tuesday?']\n"
          ]
        }
      ]
    },
    {
      "cell_type": "markdown",
      "source": [
        "# ***NLP REMOVING STOP WORDS***"
      ],
      "metadata": {
        "id": "Wz1RV4jeGWIt"
      }
    },
    {
      "cell_type": "code",
      "source": [
        "import nltk\n",
        "nltk.download('stopwords')\n",
        "from nltk.corpus import stopwords"
      ],
      "metadata": {
        "colab": {
          "base_uri": "https://localhost:8080/"
        },
        "id": "avF915GtF8lF",
        "outputId": "64853ef1-ec6c-4c1a-8daf-db9856801cc6"
      },
      "execution_count": 6,
      "outputs": [
        {
          "output_type": "stream",
          "name": "stderr",
          "text": [
            "[nltk_data] Downloading package stopwords to /root/nltk_data...\n",
            "[nltk_data]   Unzipping corpora/stopwords.zip.\n"
          ]
        }
      ]
    },
    {
      "cell_type": "code",
      "source": [
        "en_stopwords = stopwords.words('english')"
      ],
      "metadata": {
        "id": "8LkaTVG-GkNj"
      },
      "execution_count": 7,
      "outputs": []
    },
    {
      "cell_type": "code",
      "source": [
        "print(en_stopwords)"
      ],
      "metadata": {
        "colab": {
          "base_uri": "https://localhost:8080/"
        },
        "id": "TMq583CNGnxE",
        "outputId": "259f49be-7d61-48c0-8867-3bce83aadac9"
      },
      "execution_count": 8,
      "outputs": [
        {
          "output_type": "stream",
          "name": "stdout",
          "text": [
            "['i', 'me', 'my', 'myself', 'we', 'our', 'ours', 'ourselves', 'you', \"you're\", \"you've\", \"you'll\", \"you'd\", 'your', 'yours', 'yourself', 'yourselves', 'he', 'him', 'his', 'himself', 'she', \"she's\", 'her', 'hers', 'herself', 'it', \"it's\", 'its', 'itself', 'they', 'them', 'their', 'theirs', 'themselves', 'what', 'which', 'who', 'whom', 'this', 'that', \"that'll\", 'these', 'those', 'am', 'is', 'are', 'was', 'were', 'be', 'been', 'being', 'have', 'has', 'had', 'having', 'do', 'does', 'did', 'doing', 'a', 'an', 'the', 'and', 'but', 'if', 'or', 'because', 'as', 'until', 'while', 'of', 'at', 'by', 'for', 'with', 'about', 'against', 'between', 'into', 'through', 'during', 'before', 'after', 'above', 'below', 'to', 'from', 'up', 'down', 'in', 'out', 'on', 'off', 'over', 'under', 'again', 'further', 'then', 'once', 'here', 'there', 'when', 'where', 'why', 'how', 'all', 'any', 'both', 'each', 'few', 'more', 'most', 'other', 'some', 'such', 'no', 'nor', 'not', 'only', 'own', 'same', 'so', 'than', 'too', 'very', 's', 't', 'can', 'will', 'just', 'don', \"don't\", 'should', \"should've\", 'now', 'd', 'll', 'm', 'o', 're', 've', 'y', 'ain', 'aren', \"aren't\", 'couldn', \"couldn't\", 'didn', \"didn't\", 'doesn', \"doesn't\", 'hadn', \"hadn't\", 'hasn', \"hasn't\", 'haven', \"haven't\", 'isn', \"isn't\", 'ma', 'mightn', \"mightn't\", 'mustn', \"mustn't\", 'needn', \"needn't\", 'shan', \"shan't\", 'shouldn', \"shouldn't\", 'wasn', \"wasn't\", 'weren', \"weren't\", 'won', \"won't\", 'wouldn', \"wouldn't\"]\n"
          ]
        }
      ]
    },
    {
      "cell_type": "code",
      "source": [
        "sentence = \"it was too far to go to the shop and he did not want her to walk\""
      ],
      "metadata": {
        "id": "fHgF-c69Gqqz"
      },
      "execution_count": 9,
      "outputs": []
    },
    {
      "cell_type": "code",
      "source": [
        "sentence_no_stopwords = ' '.join([word for word in sentence.split() if word not in en_stopwords])"
      ],
      "metadata": {
        "id": "5XuVwhzoGuVo"
      },
      "execution_count": 10,
      "outputs": []
    },
    {
      "cell_type": "code",
      "source": [
        "print(sentence_no_stopwords)"
      ],
      "metadata": {
        "colab": {
          "base_uri": "https://localhost:8080/"
        },
        "id": "a8TL84fcGxIK",
        "outputId": "336848ab-a8f5-4b37-9314-3ce1a10b00aa"
      },
      "execution_count": 11,
      "outputs": [
        {
          "output_type": "stream",
          "name": "stdout",
          "text": [
            "far go shop want walk\n"
          ]
        }
      ]
    },
    {
      "cell_type": "code",
      "source": [
        "en_stopwords.remove(\"did\")\n",
        "en_stopwords.remove(\"not\")"
      ],
      "metadata": {
        "id": "VSMwgxRzG3ky"
      },
      "execution_count": 12,
      "outputs": []
    },
    {
      "cell_type": "code",
      "source": [
        "en_stopwords.append(\"go\")"
      ],
      "metadata": {
        "id": "HC2VjaQxG6qI"
      },
      "execution_count": 13,
      "outputs": []
    },
    {
      "cell_type": "code",
      "source": [
        "sentence_no_stopwords_custom =' '.join([word for word in sentence.split() if word not in en_stopwords])"
      ],
      "metadata": {
        "id": "3HJVsMV-G9np"
      },
      "execution_count": 14,
      "outputs": []
    },
    {
      "cell_type": "code",
      "source": [
        "print(sentence_no_stopwords_custom)"
      ],
      "metadata": {
        "colab": {
          "base_uri": "https://localhost:8080/"
        },
        "id": "NGH_A6uGHAdM",
        "outputId": "25249aff-ba05-4900-8623-26da6d1b174e"
      },
      "execution_count": 15,
      "outputs": [
        {
          "output_type": "stream",
          "name": "stdout",
          "text": [
            "far shop did not want walk\n"
          ]
        }
      ]
    },
    {
      "cell_type": "markdown",
      "source": [
        "# ***NLP REGULAR EXPRESSIONS***"
      ],
      "metadata": {
        "id": "amxxXSE0HO-s"
      }
    },
    {
      "cell_type": "code",
      "source": [
        "import re"
      ],
      "metadata": {
        "id": "duNDgC5DHDGG"
      },
      "execution_count": 16,
      "outputs": []
    },
    {
      "cell_type": "code",
      "source": [
        "my_folder = r\"C:\\desktop\\notes\"\n",
        "print(my_folder)"
      ],
      "metadata": {
        "colab": {
          "base_uri": "https://localhost:8080/"
        },
        "id": "T6b10XnUHWBg",
        "outputId": "b9ad75a3-0f9f-4010-dee0-d22d37fcb8eb"
      },
      "execution_count": 17,
      "outputs": [
        {
          "output_type": "stream",
          "name": "stdout",
          "text": [
            "C:\\desktop\\notes\n"
          ]
        }
      ]
    },
    {
      "cell_type": "code",
      "source": [
        "result_search = re.search(\"pattern\",r\"string to contain the pattern\")"
      ],
      "metadata": {
        "id": "eLgmV_cuHYgY"
      },
      "execution_count": 18,
      "outputs": []
    },
    {
      "cell_type": "code",
      "source": [
        "print(result_search)"
      ],
      "metadata": {
        "colab": {
          "base_uri": "https://localhost:8080/"
        },
        "id": "mZeC-ENFHbNW",
        "outputId": "aa0d7cf2-2665-4b83-9e7d-bd2b1d3c0030"
      },
      "execution_count": 19,
      "outputs": [
        {
          "output_type": "stream",
          "name": "stdout",
          "text": [
            "<re.Match object; span=(22, 29), match='pattern'>\n"
          ]
        }
      ]
    },
    {
      "cell_type": "code",
      "source": [
        "result_search_2 = re.search(\"pattern\",r\"the phrase to find isn't in this string\")\n",
        "print(result_search_2)"
      ],
      "metadata": {
        "colab": {
          "base_uri": "https://localhost:8080/"
        },
        "id": "aaWkE97MHdvX",
        "outputId": "176270c6-3533-4207-84d0-7e5cc61c2e9f"
      },
      "execution_count": 20,
      "outputs": [
        {
          "output_type": "stream",
          "name": "stdout",
          "text": [
            "None\n"
          ]
        }
      ]
    },
    {
      "cell_type": "code",
      "source": [
        "string = r\"sara was able to help me find the items I needed quickly\""
      ],
      "metadata": {
        "id": "UvbxWJvrHg6t"
      },
      "execution_count": 21,
      "outputs": []
    },
    {
      "cell_type": "code",
      "source": [
        "new_string = re.sub(\"sara\",\"sarah\",string)\n",
        "print(new_string)"
      ],
      "metadata": {
        "colab": {
          "base_uri": "https://localhost:8080/"
        },
        "id": "p_SR_kkQHlde",
        "outputId": "96281955-3c72-45b0-b5d5-43fa040bc247"
      },
      "execution_count": 22,
      "outputs": [
        {
          "output_type": "stream",
          "name": "stdout",
          "text": [
            "sarah was able to help me find the items I needed quickly\n"
          ]
        }
      ]
    },
    {
      "cell_type": "code",
      "source": [
        "customer_reviews = [\"sam was a great help to me in the store\",\n",
        "                    \"the cashier was very rude to me,I think her name was eleanor\",\n",
        "                    \"amazing work from sadeen|\",\n",
        "                    \"sarah was able to help me find the items I needed quickly\",\n",
        "                    \"lucy is such a great addition to the team\",\n",
        "                    \"great service from sara she found me what i wanted\"]"
      ],
      "metadata": {
        "id": "xU_8mbqGHomz"
      },
      "execution_count": 23,
      "outputs": []
    },
    {
      "cell_type": "code",
      "source": [
        "sarahs_reviews = []"
      ],
      "metadata": {
        "id": "O1r67GmLHsKJ"
      },
      "execution_count": 24,
      "outputs": []
    },
    {
      "cell_type": "code",
      "source": [
        "pattern_to_find = r\"sarah?\""
      ],
      "metadata": {
        "id": "XcP4j2vMHvDX"
      },
      "execution_count": 25,
      "outputs": []
    },
    {
      "cell_type": "code",
      "source": [
        "for string in customer_reviews:\n",
        "    if(re.search(pattern_to_find,string)):\n",
        "      sarahs_reviews.append(string)"
      ],
      "metadata": {
        "id": "AHWzpANyHxpQ"
      },
      "execution_count": 26,
      "outputs": []
    },
    {
      "cell_type": "code",
      "source": [
        "print(sarahs_reviews)"
      ],
      "metadata": {
        "colab": {
          "base_uri": "https://localhost:8080/"
        },
        "id": "P9C5uMEjH0n3",
        "outputId": "c2af788e-50a5-4979-9804-8e584ce6be04"
      },
      "execution_count": 27,
      "outputs": [
        {
          "output_type": "stream",
          "name": "stdout",
          "text": [
            "['sarah was able to help me find the items I needed quickly', 'great service from sara she found me what i wanted']\n"
          ]
        }
      ]
    },
    {
      "cell_type": "code",
      "source": [
        "a_reviews = []\n",
        "pattern_to_find = r\"^a\"\n",
        "\n",
        "for string in customer_reviews:\n",
        "    if(re.search(pattern_to_find,string)):\n",
        "       a_reviews.append(string)"
      ],
      "metadata": {
        "id": "cnUwk3Q0H6Ka"
      },
      "execution_count": 28,
      "outputs": []
    },
    {
      "cell_type": "code",
      "source": [
        "print(a_reviews)"
      ],
      "metadata": {
        "colab": {
          "base_uri": "https://localhost:8080/"
        },
        "id": "iwWmzYFPIA6m",
        "outputId": "3843231d-2598-45db-ba8f-8058759c73fc"
      },
      "execution_count": 29,
      "outputs": [
        {
          "output_type": "stream",
          "name": "stdout",
          "text": [
            "['amazing work from sadeen|']\n"
          ]
        }
      ]
    },
    {
      "cell_type": "code",
      "source": [
        "y_reviews = []\n",
        "pattern_to_find = r\"y$\"\n",
        "\n",
        "for string in customer_reviews:\n",
        "    if(re.search(pattern_to_find,string)):\n",
        "       y_reviews.append(string)"
      ],
      "metadata": {
        "id": "jYI4CghrIDff"
      },
      "execution_count": 30,
      "outputs": []
    },
    {
      "cell_type": "code",
      "source": [
        "print(y_reviews)"
      ],
      "metadata": {
        "colab": {
          "base_uri": "https://localhost:8080/"
        },
        "id": "-V5bbnH0IGCj",
        "outputId": "f36cef58-c690-4caf-83cd-de7e011eb247"
      },
      "execution_count": 31,
      "outputs": [
        {
          "output_type": "stream",
          "name": "stdout",
          "text": [
            "['sarah was able to help me find the items I needed quickly']\n"
          ]
        }
      ]
    },
    {
      "cell_type": "code",
      "source": [
        "needwant_reviews = []\n",
        "pattern_to_find = r\"(need|want)ed\"\n",
        "\n",
        "for string in customer_reviews:\n",
        "    if (re.search(pattern_to_find,string)):\n",
        "       needwant_reviews.append(string)"
      ],
      "metadata": {
        "id": "ptdW_YhtIJqc"
      },
      "execution_count": 32,
      "outputs": []
    },
    {
      "cell_type": "code",
      "source": [
        "print(needwant_reviews)"
      ],
      "metadata": {
        "colab": {
          "base_uri": "https://localhost:8080/"
        },
        "id": "XzwbDjJjIPR3",
        "outputId": "6393865f-db03-49e0-a363-ef9c6664c593"
      },
      "execution_count": 33,
      "outputs": [
        {
          "output_type": "stream",
          "name": "stdout",
          "text": [
            "['sarah was able to help me find the items I needed quickly', 'great service from sara she found me what i wanted']\n"
          ]
        }
      ]
    },
    {
      "cell_type": "code",
      "source": [
        "no_punct_reviews = []\n",
        "pattern_to_find = r\"[^\\w\\s]\""
      ],
      "metadata": {
        "id": "kS99GNCJISde"
      },
      "execution_count": 34,
      "outputs": []
    },
    {
      "cell_type": "code",
      "source": [
        "for string in customer_reviews:\n",
        "    no_punct_string = re.sub(pattern_to_find,\"\",string)\n",
        "    no_punct_reviews.append(no_punct_string)"
      ],
      "metadata": {
        "id": "oV6dn1A4IVSW"
      },
      "execution_count": 35,
      "outputs": []
    },
    {
      "cell_type": "code",
      "source": [
        "print(no_punct_reviews)"
      ],
      "metadata": {
        "colab": {
          "base_uri": "https://localhost:8080/"
        },
        "id": "sVQc6CxHIYkb",
        "outputId": "e1676612-177f-447f-a466-a6aecc87f12a"
      },
      "execution_count": 36,
      "outputs": [
        {
          "output_type": "stream",
          "name": "stdout",
          "text": [
            "['sam was a great help to me in the store', 'the cashier was very rude to meI think her name was eleanor', 'amazing work from sadeen', 'sarah was able to help me find the items I needed quickly', 'lucy is such a great addition to the team', 'great service from sara she found me what i wanted']\n"
          ]
        }
      ]
    },
    {
      "cell_type": "markdown",
      "source": [
        "# ***NLP Tokenization***"
      ],
      "metadata": {
        "id": "H7RfjGrdIm90"
      }
    },
    {
      "cell_type": "code",
      "source": [
        "import nltk\n",
        "nltk.download('punkt')\n",
        "from nltk.tokenize import word_tokenize,sent_tokenize"
      ],
      "metadata": {
        "colab": {
          "base_uri": "https://localhost:8080/"
        },
        "id": "qlFCgLjTIbUc",
        "outputId": "c06f5cda-62a9-47d7-fce8-81694a780350"
      },
      "execution_count": 37,
      "outputs": [
        {
          "output_type": "stream",
          "name": "stderr",
          "text": [
            "[nltk_data] Downloading package punkt to /root/nltk_data...\n",
            "[nltk_data]   Unzipping tokenizers/punkt.zip.\n"
          ]
        }
      ]
    },
    {
      "cell_type": "code",
      "source": [
        "sentences = \"Her cat's name is Luna. Her dog's name is Max.\""
      ],
      "metadata": {
        "id": "UrRQKCSNIsEn"
      },
      "execution_count": 38,
      "outputs": []
    },
    {
      "cell_type": "code",
      "source": [
        "sent_tokenize(sentences)"
      ],
      "metadata": {
        "colab": {
          "base_uri": "https://localhost:8080/"
        },
        "id": "rNje4N6-IvtH",
        "outputId": "b0b45ebb-7f8a-4f79-c442-d8420614d04c"
      },
      "execution_count": 39,
      "outputs": [
        {
          "output_type": "execute_result",
          "data": {
            "text/plain": [
              "[\"Her cat's name is Luna.\", \"Her dog's name is Max.\"]"
            ]
          },
          "metadata": {},
          "execution_count": 39
        }
      ]
    },
    {
      "cell_type": "code",
      "source": [
        "sentence = \"her cat's name is luna\"\n",
        "word_tokenize(sentence)"
      ],
      "metadata": {
        "colab": {
          "base_uri": "https://localhost:8080/"
        },
        "id": "DL8Qx8Y3IyjR",
        "outputId": "750e2d23-1cd3-4e79-d38e-51553d8e825a"
      },
      "execution_count": 40,
      "outputs": [
        {
          "output_type": "execute_result",
          "data": {
            "text/plain": [
              "['her', 'cat', \"'s\", 'name', 'is', 'luna']"
            ]
          },
          "metadata": {},
          "execution_count": 40
        }
      ]
    },
    {
      "cell_type": "code",
      "source": [
        "sentence_2 = \"Her cat's name is Luna and her dog's name is max\"\n",
        "word_tokenize(sentence_2)"
      ],
      "metadata": {
        "colab": {
          "base_uri": "https://localhost:8080/"
        },
        "id": "_5RNsHNQI1y1",
        "outputId": "7ebac9fb-460a-4820-afe9-48aeeea47758"
      },
      "execution_count": 41,
      "outputs": [
        {
          "output_type": "execute_result",
          "data": {
            "text/plain": [
              "['Her',\n",
              " 'cat',\n",
              " \"'s\",\n",
              " 'name',\n",
              " 'is',\n",
              " 'Luna',\n",
              " 'and',\n",
              " 'her',\n",
              " 'dog',\n",
              " \"'s\",\n",
              " 'name',\n",
              " 'is',\n",
              " 'max']"
            ]
          },
          "metadata": {},
          "execution_count": 41
        }
      ]
    },
    {
      "cell_type": "markdown",
      "source": [
        "# ***NLP Stemming***"
      ],
      "metadata": {
        "id": "15zgdoqvJOYS"
      }
    },
    {
      "cell_type": "code",
      "source": [
        "from nltk.stem import PorterStemmer"
      ],
      "metadata": {
        "id": "j2goTHdeI40S"
      },
      "execution_count": 42,
      "outputs": []
    },
    {
      "cell_type": "code",
      "source": [
        "ps = PorterStemmer()"
      ],
      "metadata": {
        "id": "hEYyL--KJV1E"
      },
      "execution_count": 43,
      "outputs": []
    },
    {
      "cell_type": "code",
      "source": [
        "connect_tokens = ['connecting','connected','connectivity','connect','connects']"
      ],
      "metadata": {
        "id": "ja0yZQ16JYHh"
      },
      "execution_count": 44,
      "outputs": []
    },
    {
      "cell_type": "code",
      "source": [
        "for t in connect_tokens:\n",
        "    print(t ,\":\",ps.stem(t))"
      ],
      "metadata": {
        "colab": {
          "base_uri": "https://localhost:8080/"
        },
        "id": "mSDPsKARJbHc",
        "outputId": "79dabb0c-9f2d-4ad4-f7c8-220147ac2563"
      },
      "execution_count": 45,
      "outputs": [
        {
          "output_type": "stream",
          "name": "stdout",
          "text": [
            "connecting : connect\n",
            "connected : connect\n",
            "connectivity : connect\n",
            "connect : connect\n",
            "connects : connect\n"
          ]
        }
      ]
    },
    {
      "cell_type": "code",
      "source": [
        "learn_tokens = ['learned','learning','learn','learns','learner','learners']"
      ],
      "metadata": {
        "id": "QP-6fo-GJeQd"
      },
      "execution_count": 46,
      "outputs": []
    },
    {
      "cell_type": "code",
      "source": [
        "for t in learn_tokens:\n",
        "    print(t ,\":\",ps.stem(t))"
      ],
      "metadata": {
        "colab": {
          "base_uri": "https://localhost:8080/"
        },
        "id": "KN1izwhHJuUx",
        "outputId": "4272d158-2151-4d0c-806e-cfbe395115b3"
      },
      "execution_count": 47,
      "outputs": [
        {
          "output_type": "stream",
          "name": "stdout",
          "text": [
            "learned : learn\n",
            "learning : learn\n",
            "learn : learn\n",
            "learns : learn\n",
            "learner : learner\n",
            "learners : learner\n"
          ]
        }
      ]
    },
    {
      "cell_type": "code",
      "source": [
        "likes_tokens = ['likes','better','worse']"
      ],
      "metadata": {
        "id": "7qk9MnBUJ0SS"
      },
      "execution_count": 48,
      "outputs": []
    },
    {
      "cell_type": "code",
      "source": [
        "for t in likes_tokens:\n",
        "    print(t ,\":\",ps.stem(t))"
      ],
      "metadata": {
        "colab": {
          "base_uri": "https://localhost:8080/"
        },
        "id": "BP2YSK3SKBxR",
        "outputId": "e487bcf2-4a90-46d5-a48e-b0917602fd23"
      },
      "execution_count": 49,
      "outputs": [
        {
          "output_type": "stream",
          "name": "stdout",
          "text": [
            "likes : like\n",
            "better : better\n",
            "worse : wors\n"
          ]
        }
      ]
    },
    {
      "cell_type": "markdown",
      "source": [
        "# ***NLP Lemmatization***"
      ],
      "metadata": {
        "id": "YFZ1fFDoKqsx"
      }
    },
    {
      "cell_type": "code",
      "source": [
        "nltk.download('wordnet')\n",
        "from nltk.stem import WordNetLemmatizer"
      ],
      "metadata": {
        "colab": {
          "base_uri": "https://localhost:8080/"
        },
        "id": "mV_3jwr3KFLk",
        "outputId": "dcecb7e3-d146-4cc0-a605-28f4f823a91c"
      },
      "execution_count": 50,
      "outputs": [
        {
          "output_type": "stream",
          "name": "stderr",
          "text": [
            "[nltk_data] Downloading package wordnet to /root/nltk_data...\n"
          ]
        }
      ]
    },
    {
      "cell_type": "code",
      "source": [
        "lemmatizer = WordNetLemmatizer()"
      ],
      "metadata": {
        "id": "EvNqqUoJK_9y"
      },
      "execution_count": 51,
      "outputs": []
    },
    {
      "cell_type": "code",
      "source": [
        "for t in connect_tokens:\n",
        "    print(t, \":\",lemmatizer.lemmatize(t))"
      ],
      "metadata": {
        "colab": {
          "base_uri": "https://localhost:8080/"
        },
        "id": "klfLPKKwLHzF",
        "outputId": "35aa59b9-0195-42a5-a9f7-bd013584a670"
      },
      "execution_count": 53,
      "outputs": [
        {
          "output_type": "stream",
          "name": "stdout",
          "text": [
            "connecting : connecting\n",
            "connected : connected\n",
            "connectivity : connectivity\n",
            "connect : connect\n",
            "connects : connects\n"
          ]
        }
      ]
    },
    {
      "cell_type": "code",
      "source": [
        "for t in learn_tokens:\n",
        "    print(t, \":\",lemmatizer.lemmatize(t))"
      ],
      "metadata": {
        "colab": {
          "base_uri": "https://localhost:8080/"
        },
        "id": "9Dz4AXGULW9y",
        "outputId": "126fbbfa-334b-4378-ce2b-c00b57dbf9b0"
      },
      "execution_count": 54,
      "outputs": [
        {
          "output_type": "stream",
          "name": "stdout",
          "text": [
            "learned : learned\n",
            "learning : learning\n",
            "learn : learn\n",
            "learns : learns\n",
            "learner : learner\n",
            "learners : learner\n"
          ]
        }
      ]
    },
    {
      "cell_type": "code",
      "source": [
        "for t in likes_tokens:\n",
        "    print(t, \":\",lemmatizer.lemmatize(t))"
      ],
      "metadata": {
        "colab": {
          "base_uri": "https://localhost:8080/"
        },
        "id": "dzUOfIyjXVma",
        "outputId": "a6380a92-cd09-4eb9-b83d-d29d05ee2fc4"
      },
      "execution_count": 55,
      "outputs": [
        {
          "output_type": "stream",
          "name": "stdout",
          "text": [
            "likes : like\n",
            "better : better\n",
            "worse : worse\n"
          ]
        }
      ]
    },
    {
      "cell_type": "code",
      "source": [],
      "metadata": {
        "id": "csNQuy5jYmiq"
      },
      "execution_count": null,
      "outputs": []
    }
  ]
}