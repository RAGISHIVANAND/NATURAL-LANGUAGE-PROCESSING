{
  "nbformat": 4,
  "nbformat_minor": 0,
  "metadata": {
    "colab": {
      "provenance": [],
      "authorship_tag": "ABX9TyMSPhWTKsipIK1VQvTL8JZ9",
      "include_colab_link": true
    },
    "kernelspec": {
      "name": "python3",
      "display_name": "Python 3"
    },
    "language_info": {
      "name": "python"
    }
  },
  "cells": [
    {
      "cell_type": "markdown",
      "metadata": {
        "id": "view-in-github",
        "colab_type": "text"
      },
      "source": [
        "<a href=\"https://colab.research.google.com/github/RAGISHIVANAND/NATURAL-LANGUAGE-PROCESSING/blob/main/Natural_Language_Processing.ipynb\" target=\"_parent\"><img src=\"https://colab.research.google.com/assets/colab-badge.svg\" alt=\"Open In Colab\"/></a>"
      ]
    },
    {
      "cell_type": "markdown",
      "source": [
        "# ***NLP LOWER CASE***"
      ],
      "metadata": {
        "id": "8Gl3UNlhGbOp"
      }
    },
    {
      "cell_type": "code",
      "execution_count": 3,
      "metadata": {
        "id": "1mnUGSA7FQUL"
      },
      "outputs": [],
      "source": [
        "sentence = \"Her cat's name is Luna\""
      ]
    },
    {
      "cell_type": "code",
      "source": [
        "lower_sentence = sentence.lower()"
      ],
      "metadata": {
        "id": "Kw1sIwlgFv7X"
      },
      "execution_count": 4,
      "outputs": []
    },
    {
      "cell_type": "code",
      "source": [
        "print(lower_sentence)"
      ],
      "metadata": {
        "colab": {
          "base_uri": "https://localhost:8080/"
        },
        "id": "RhfoEbS4FzWo",
        "outputId": "83275f9c-740c-498f-e985-629b02d8cbfc"
      },
      "execution_count": 5,
      "outputs": [
        {
          "output_type": "stream",
          "name": "stdout",
          "text": [
            "her cat's name is luna\n"
          ]
        }
      ]
    },
    {
      "cell_type": "code",
      "source": [
        "sentence_list = [ 'could you pass me the TV remote?',\n",
        "                 'It is IMPOSSIBLE to find this hotel',\n",
        "                  'want to go for dinner on Tuesday?']"
      ],
      "metadata": {
        "id": "nJ2Vl9klF2QT"
      },
      "execution_count": 6,
      "outputs": []
    },
    {
      "cell_type": "code",
      "source": [
        "lower_sentence_list = [x.lower() for x in sentence_list]\n",
        "print(lower_sentence_list)"
      ],
      "metadata": {
        "colab": {
          "base_uri": "https://localhost:8080/"
        },
        "id": "imtg2_ygF5gl",
        "outputId": "37b3627e-ea55-47eb-8f34-b7196aa18a26"
      },
      "execution_count": 7,
      "outputs": [
        {
          "output_type": "stream",
          "name": "stdout",
          "text": [
            "['could you pass me the tv remote?', 'it is impossible to find this hotel', 'want to go for dinner on tuesday?']\n"
          ]
        }
      ]
    },
    {
      "cell_type": "markdown",
      "source": [
        "# ***NLP REMOVING STOP WORDS***"
      ],
      "metadata": {
        "id": "Wz1RV4jeGWIt"
      }
    },
    {
      "cell_type": "code",
      "source": [
        "import nltk\n",
        "nltk.download('stopwords')\n",
        "from nltk.corpus import stopwords"
      ],
      "metadata": {
        "colab": {
          "base_uri": "https://localhost:8080/"
        },
        "id": "avF915GtF8lF",
        "outputId": "9f4dee8f-2258-4fc7-9619-64ed205045b0"
      },
      "execution_count": 8,
      "outputs": [
        {
          "output_type": "stream",
          "name": "stderr",
          "text": [
            "[nltk_data] Downloading package stopwords to /root/nltk_data...\n",
            "[nltk_data]   Unzipping corpora/stopwords.zip.\n"
          ]
        }
      ]
    },
    {
      "cell_type": "code",
      "source": [
        "en_stopwords = stopwords.words('english')"
      ],
      "metadata": {
        "id": "8LkaTVG-GkNj"
      },
      "execution_count": 9,
      "outputs": []
    },
    {
      "cell_type": "code",
      "source": [
        "print(en_stopwords)"
      ],
      "metadata": {
        "colab": {
          "base_uri": "https://localhost:8080/"
        },
        "id": "TMq583CNGnxE",
        "outputId": "0530b100-4a8e-4b8a-be07-ac2f51dad49c"
      },
      "execution_count": 10,
      "outputs": [
        {
          "output_type": "stream",
          "name": "stdout",
          "text": [
            "['i', 'me', 'my', 'myself', 'we', 'our', 'ours', 'ourselves', 'you', \"you're\", \"you've\", \"you'll\", \"you'd\", 'your', 'yours', 'yourself', 'yourselves', 'he', 'him', 'his', 'himself', 'she', \"she's\", 'her', 'hers', 'herself', 'it', \"it's\", 'its', 'itself', 'they', 'them', 'their', 'theirs', 'themselves', 'what', 'which', 'who', 'whom', 'this', 'that', \"that'll\", 'these', 'those', 'am', 'is', 'are', 'was', 'were', 'be', 'been', 'being', 'have', 'has', 'had', 'having', 'do', 'does', 'did', 'doing', 'a', 'an', 'the', 'and', 'but', 'if', 'or', 'because', 'as', 'until', 'while', 'of', 'at', 'by', 'for', 'with', 'about', 'against', 'between', 'into', 'through', 'during', 'before', 'after', 'above', 'below', 'to', 'from', 'up', 'down', 'in', 'out', 'on', 'off', 'over', 'under', 'again', 'further', 'then', 'once', 'here', 'there', 'when', 'where', 'why', 'how', 'all', 'any', 'both', 'each', 'few', 'more', 'most', 'other', 'some', 'such', 'no', 'nor', 'not', 'only', 'own', 'same', 'so', 'than', 'too', 'very', 's', 't', 'can', 'will', 'just', 'don', \"don't\", 'should', \"should've\", 'now', 'd', 'll', 'm', 'o', 're', 've', 'y', 'ain', 'aren', \"aren't\", 'couldn', \"couldn't\", 'didn', \"didn't\", 'doesn', \"doesn't\", 'hadn', \"hadn't\", 'hasn', \"hasn't\", 'haven', \"haven't\", 'isn', \"isn't\", 'ma', 'mightn', \"mightn't\", 'mustn', \"mustn't\", 'needn', \"needn't\", 'shan', \"shan't\", 'shouldn', \"shouldn't\", 'wasn', \"wasn't\", 'weren', \"weren't\", 'won', \"won't\", 'wouldn', \"wouldn't\"]\n"
          ]
        }
      ]
    },
    {
      "cell_type": "code",
      "source": [
        "sentence = \"it was too far to go to the shop and he did not want her to walk\""
      ],
      "metadata": {
        "id": "fHgF-c69Gqqz"
      },
      "execution_count": 11,
      "outputs": []
    },
    {
      "cell_type": "code",
      "source": [
        "sentence_no_stopwords = ' '.join([word for word in sentence.split() if word not in en_stopwords])"
      ],
      "metadata": {
        "id": "5XuVwhzoGuVo"
      },
      "execution_count": 12,
      "outputs": []
    },
    {
      "cell_type": "code",
      "source": [
        "print(sentence_no_stopwords)"
      ],
      "metadata": {
        "colab": {
          "base_uri": "https://localhost:8080/"
        },
        "id": "a8TL84fcGxIK",
        "outputId": "cb84b55d-b70d-49d1-94c2-85240b3d68c1"
      },
      "execution_count": 13,
      "outputs": [
        {
          "output_type": "stream",
          "name": "stdout",
          "text": [
            "far go shop want walk\n"
          ]
        }
      ]
    },
    {
      "cell_type": "code",
      "source": [
        "en_stopwords.remove(\"did\")\n",
        "en_stopwords.remove(\"not\")"
      ],
      "metadata": {
        "id": "VSMwgxRzG3ky"
      },
      "execution_count": 14,
      "outputs": []
    },
    {
      "cell_type": "code",
      "source": [
        "en_stopwords.append(\"go\")"
      ],
      "metadata": {
        "id": "HC2VjaQxG6qI"
      },
      "execution_count": 15,
      "outputs": []
    },
    {
      "cell_type": "code",
      "source": [
        "sentence_no_stopwords_custom =' '.join([word for word in sentence.split() if word not in en_stopwords])"
      ],
      "metadata": {
        "id": "3HJVsMV-G9np"
      },
      "execution_count": 16,
      "outputs": []
    },
    {
      "cell_type": "code",
      "source": [
        "print(sentence_no_stopwords_custom)"
      ],
      "metadata": {
        "colab": {
          "base_uri": "https://localhost:8080/"
        },
        "id": "NGH_A6uGHAdM",
        "outputId": "b4a131fb-b942-47ba-add6-7e68c1053705"
      },
      "execution_count": 17,
      "outputs": [
        {
          "output_type": "stream",
          "name": "stdout",
          "text": [
            "far shop did not want walk\n"
          ]
        }
      ]
    },
    {
      "cell_type": "markdown",
      "source": [
        "# ***NLP REGULAR EXPRESSIONS***"
      ],
      "metadata": {
        "id": "amxxXSE0HO-s"
      }
    },
    {
      "cell_type": "code",
      "source": [
        "import re"
      ],
      "metadata": {
        "id": "duNDgC5DHDGG"
      },
      "execution_count": 18,
      "outputs": []
    },
    {
      "cell_type": "code",
      "source": [
        "my_folder = r\"C:\\desktop\\notes\"\n",
        "print(my_folder)"
      ],
      "metadata": {
        "colab": {
          "base_uri": "https://localhost:8080/"
        },
        "id": "T6b10XnUHWBg",
        "outputId": "f22e7d5f-a797-47f3-de62-0dd2f6f18450"
      },
      "execution_count": 19,
      "outputs": [
        {
          "output_type": "stream",
          "name": "stdout",
          "text": [
            "C:\\desktop\\notes\n"
          ]
        }
      ]
    },
    {
      "cell_type": "code",
      "source": [
        "result_search = re.search(\"pattern\",r\"string to contain the pattern\")"
      ],
      "metadata": {
        "id": "eLgmV_cuHYgY"
      },
      "execution_count": 20,
      "outputs": []
    },
    {
      "cell_type": "code",
      "source": [
        "print(result_search)"
      ],
      "metadata": {
        "colab": {
          "base_uri": "https://localhost:8080/"
        },
        "id": "mZeC-ENFHbNW",
        "outputId": "4c08702d-ad21-4dc9-b33b-6fae79c921fd"
      },
      "execution_count": 21,
      "outputs": [
        {
          "output_type": "stream",
          "name": "stdout",
          "text": [
            "<re.Match object; span=(22, 29), match='pattern'>\n"
          ]
        }
      ]
    },
    {
      "cell_type": "code",
      "source": [
        "result_search_2 = re.search(\"pattern\",r\"the phrase to find isn't in this string\")\n",
        "print(result_search_2)"
      ],
      "metadata": {
        "colab": {
          "base_uri": "https://localhost:8080/"
        },
        "id": "aaWkE97MHdvX",
        "outputId": "dfd148f1-1ae4-48c1-a7df-e8beee721912"
      },
      "execution_count": 22,
      "outputs": [
        {
          "output_type": "stream",
          "name": "stdout",
          "text": [
            "None\n"
          ]
        }
      ]
    },
    {
      "cell_type": "code",
      "source": [
        "string = r\"sara was able to help me find the items I needed quickly\""
      ],
      "metadata": {
        "id": "UvbxWJvrHg6t"
      },
      "execution_count": 23,
      "outputs": []
    },
    {
      "cell_type": "code",
      "source": [
        "new_string = re.sub(\"sara\",\"sarah\",string)\n",
        "print(new_string)"
      ],
      "metadata": {
        "colab": {
          "base_uri": "https://localhost:8080/"
        },
        "id": "p_SR_kkQHlde",
        "outputId": "51ecafae-4221-4a95-b8fa-e2118a4a75c6"
      },
      "execution_count": 24,
      "outputs": [
        {
          "output_type": "stream",
          "name": "stdout",
          "text": [
            "sarah was able to help me find the items I needed quickly\n"
          ]
        }
      ]
    },
    {
      "cell_type": "code",
      "source": [
        "customer_reviews = [\"sam was a great help to me in the store\",\n",
        "                    \"the cashier was very rude to me,I think her name was eleanor\",\n",
        "                    \"amazing work from sadeen|\",\n",
        "                    \"sarah was able to help me find the items I needed quickly\",\n",
        "                    \"lucy is such a great addition to the team\",\n",
        "                    \"great service from sara she found me what i wanted\"]"
      ],
      "metadata": {
        "id": "xU_8mbqGHomz"
      },
      "execution_count": 25,
      "outputs": []
    },
    {
      "cell_type": "code",
      "source": [
        "sarahs_reviews = []"
      ],
      "metadata": {
        "id": "O1r67GmLHsKJ"
      },
      "execution_count": 26,
      "outputs": []
    },
    {
      "cell_type": "code",
      "source": [
        "pattern_to_find = r\"sarah?\""
      ],
      "metadata": {
        "id": "XcP4j2vMHvDX"
      },
      "execution_count": 27,
      "outputs": []
    },
    {
      "cell_type": "code",
      "source": [
        "for string in customer_reviews:\n",
        "    if(re.search(pattern_to_find,string)):\n",
        "      sarahs_reviews.append(string)"
      ],
      "metadata": {
        "id": "AHWzpANyHxpQ"
      },
      "execution_count": 28,
      "outputs": []
    },
    {
      "cell_type": "code",
      "source": [
        "print(sarahs_reviews)"
      ],
      "metadata": {
        "colab": {
          "base_uri": "https://localhost:8080/"
        },
        "id": "P9C5uMEjH0n3",
        "outputId": "10e1c2dc-f1e1-4e76-8644-9f3d95865646"
      },
      "execution_count": 29,
      "outputs": [
        {
          "output_type": "stream",
          "name": "stdout",
          "text": [
            "['sarah was able to help me find the items I needed quickly', 'great service from sara she found me what i wanted']\n"
          ]
        }
      ]
    },
    {
      "cell_type": "code",
      "source": [
        "a_reviews = []\n",
        "pattern_to_find = r\"^a\"\n",
        "\n",
        "for string in customer_reviews:\n",
        "    if(re.search(pattern_to_find,string)):\n",
        "       a_reviews.append(string)"
      ],
      "metadata": {
        "id": "cnUwk3Q0H6Ka"
      },
      "execution_count": 30,
      "outputs": []
    },
    {
      "cell_type": "code",
      "source": [
        "print(a_reviews)"
      ],
      "metadata": {
        "colab": {
          "base_uri": "https://localhost:8080/"
        },
        "id": "iwWmzYFPIA6m",
        "outputId": "9780ceba-8d63-4cdd-9fe2-303c526fe5b1"
      },
      "execution_count": 31,
      "outputs": [
        {
          "output_type": "stream",
          "name": "stdout",
          "text": [
            "['amazing work from sadeen|']\n"
          ]
        }
      ]
    },
    {
      "cell_type": "code",
      "source": [
        "y_reviews = []\n",
        "pattern_to_find = r\"y$\"\n",
        "\n",
        "for string in customer_reviews:\n",
        "    if(re.search(pattern_to_find,string)):\n",
        "       y_reviews.append(string)"
      ],
      "metadata": {
        "id": "jYI4CghrIDff"
      },
      "execution_count": 32,
      "outputs": []
    },
    {
      "cell_type": "code",
      "source": [
        "print(y_reviews)"
      ],
      "metadata": {
        "colab": {
          "base_uri": "https://localhost:8080/"
        },
        "id": "-V5bbnH0IGCj",
        "outputId": "1a183bc6-c4c7-4476-cf20-e1944d5f1906"
      },
      "execution_count": 33,
      "outputs": [
        {
          "output_type": "stream",
          "name": "stdout",
          "text": [
            "['sarah was able to help me find the items I needed quickly']\n"
          ]
        }
      ]
    },
    {
      "cell_type": "code",
      "source": [
        "needwant_reviews = []\n",
        "pattern_to_find = r\"(need|want)ed\"\n",
        "\n",
        "for string in customer_reviews:\n",
        "    if (re.search(pattern_to_find,string)):\n",
        "       needwant_reviews.append(string)"
      ],
      "metadata": {
        "id": "ptdW_YhtIJqc"
      },
      "execution_count": 34,
      "outputs": []
    },
    {
      "cell_type": "code",
      "source": [
        "print(needwant_reviews)"
      ],
      "metadata": {
        "colab": {
          "base_uri": "https://localhost:8080/"
        },
        "id": "XzwbDjJjIPR3",
        "outputId": "5ad4b643-a97c-463a-9c9c-cad0cd4b1c0d"
      },
      "execution_count": 35,
      "outputs": [
        {
          "output_type": "stream",
          "name": "stdout",
          "text": [
            "['sarah was able to help me find the items I needed quickly', 'great service from sara she found me what i wanted']\n"
          ]
        }
      ]
    },
    {
      "cell_type": "code",
      "source": [
        "no_punct_reviews = []\n",
        "pattern_to_find = r\"[^\\w\\s]\""
      ],
      "metadata": {
        "id": "kS99GNCJISde"
      },
      "execution_count": 36,
      "outputs": []
    },
    {
      "cell_type": "code",
      "source": [
        "for string in customer_reviews:\n",
        "    no_punct_string = re.sub(pattern_to_find,\"\",string)\n",
        "    no_punct_reviews.append(no_punct_string)"
      ],
      "metadata": {
        "id": "oV6dn1A4IVSW"
      },
      "execution_count": 37,
      "outputs": []
    },
    {
      "cell_type": "code",
      "source": [
        "print(no_punct_reviews)"
      ],
      "metadata": {
        "colab": {
          "base_uri": "https://localhost:8080/"
        },
        "id": "sVQc6CxHIYkb",
        "outputId": "5aec1b25-dd42-48ad-ac11-ff00ae31b1ea"
      },
      "execution_count": 38,
      "outputs": [
        {
          "output_type": "stream",
          "name": "stdout",
          "text": [
            "['sam was a great help to me in the store', 'the cashier was very rude to meI think her name was eleanor', 'amazing work from sadeen', 'sarah was able to help me find the items I needed quickly', 'lucy is such a great addition to the team', 'great service from sara she found me what i wanted']\n"
          ]
        }
      ]
    },
    {
      "cell_type": "markdown",
      "source": [
        "# ***NLP Tokenization***"
      ],
      "metadata": {
        "id": "H7RfjGrdIm90"
      }
    },
    {
      "cell_type": "code",
      "source": [
        "import nltk\n",
        "nltk.download('punkt')\n",
        "from nltk.tokenize import word_tokenize,sent_tokenize"
      ],
      "metadata": {
        "colab": {
          "base_uri": "https://localhost:8080/"
        },
        "id": "qlFCgLjTIbUc",
        "outputId": "6e0ae1eb-6922-46e1-975a-4ebae39a8e95"
      },
      "execution_count": 39,
      "outputs": [
        {
          "output_type": "stream",
          "name": "stderr",
          "text": [
            "[nltk_data] Downloading package punkt to /root/nltk_data...\n",
            "[nltk_data]   Unzipping tokenizers/punkt.zip.\n"
          ]
        }
      ]
    },
    {
      "cell_type": "code",
      "source": [
        "sentences = \"Her cat's name is Luna. Her dog's name is Max.\""
      ],
      "metadata": {
        "id": "UrRQKCSNIsEn"
      },
      "execution_count": 40,
      "outputs": []
    },
    {
      "cell_type": "code",
      "source": [
        "sent_tokenize(sentences)"
      ],
      "metadata": {
        "colab": {
          "base_uri": "https://localhost:8080/"
        },
        "id": "rNje4N6-IvtH",
        "outputId": "2807a05e-ac8e-41b1-93c3-e9f8c834fca4"
      },
      "execution_count": 41,
      "outputs": [
        {
          "output_type": "execute_result",
          "data": {
            "text/plain": [
              "[\"Her cat's name is Luna.\", \"Her dog's name is Max.\"]"
            ]
          },
          "metadata": {},
          "execution_count": 41
        }
      ]
    },
    {
      "cell_type": "code",
      "source": [
        "sentence = \"her cat's name is luna\"\n",
        "word_tokenize(sentence)"
      ],
      "metadata": {
        "colab": {
          "base_uri": "https://localhost:8080/"
        },
        "id": "DL8Qx8Y3IyjR",
        "outputId": "11a2936a-6afb-4d27-bdda-844d796a8c45"
      },
      "execution_count": 42,
      "outputs": [
        {
          "output_type": "execute_result",
          "data": {
            "text/plain": [
              "['her', 'cat', \"'s\", 'name', 'is', 'luna']"
            ]
          },
          "metadata": {},
          "execution_count": 42
        }
      ]
    },
    {
      "cell_type": "code",
      "source": [
        "sentence_2 = \"Her cat's name is Luna and her dog's name is max\"\n",
        "word_tokenize(sentence_2)"
      ],
      "metadata": {
        "colab": {
          "base_uri": "https://localhost:8080/"
        },
        "id": "_5RNsHNQI1y1",
        "outputId": "e552565b-96eb-48d4-d2ea-bbf13bd3eeb9"
      },
      "execution_count": 43,
      "outputs": [
        {
          "output_type": "execute_result",
          "data": {
            "text/plain": [
              "['Her',\n",
              " 'cat',\n",
              " \"'s\",\n",
              " 'name',\n",
              " 'is',\n",
              " 'Luna',\n",
              " 'and',\n",
              " 'her',\n",
              " 'dog',\n",
              " \"'s\",\n",
              " 'name',\n",
              " 'is',\n",
              " 'max']"
            ]
          },
          "metadata": {},
          "execution_count": 43
        }
      ]
    },
    {
      "cell_type": "markdown",
      "source": [
        "# ***NLP Stemming***"
      ],
      "metadata": {
        "id": "15zgdoqvJOYS"
      }
    },
    {
      "cell_type": "code",
      "source": [
        "from nltk.stem import PorterStemmer"
      ],
      "metadata": {
        "id": "j2goTHdeI40S"
      },
      "execution_count": 44,
      "outputs": []
    },
    {
      "cell_type": "code",
      "source": [
        "ps = PorterStemmer()"
      ],
      "metadata": {
        "id": "hEYyL--KJV1E"
      },
      "execution_count": 45,
      "outputs": []
    },
    {
      "cell_type": "code",
      "source": [
        "connect_tokens = ['connecting','connected','connectivity','connect','connects']"
      ],
      "metadata": {
        "id": "ja0yZQ16JYHh"
      },
      "execution_count": 46,
      "outputs": []
    },
    {
      "cell_type": "code",
      "source": [
        "for t in connect_tokens:\n",
        "    print(t ,\":\",ps.stem(t))"
      ],
      "metadata": {
        "colab": {
          "base_uri": "https://localhost:8080/"
        },
        "id": "mSDPsKARJbHc",
        "outputId": "68b1b44e-2c98-4688-b7f2-1264e79cc8ae"
      },
      "execution_count": 47,
      "outputs": [
        {
          "output_type": "stream",
          "name": "stdout",
          "text": [
            "connecting : connect\n",
            "connected : connect\n",
            "connectivity : connect\n",
            "connect : connect\n",
            "connects : connect\n"
          ]
        }
      ]
    },
    {
      "cell_type": "code",
      "source": [
        "learn_tokens = ['learned','learning','learn','learns','learner','learners']"
      ],
      "metadata": {
        "id": "QP-6fo-GJeQd"
      },
      "execution_count": 48,
      "outputs": []
    },
    {
      "cell_type": "code",
      "source": [
        "for t in learn_tokens:\n",
        "    print(t ,\":\",ps.stem(t))"
      ],
      "metadata": {
        "colab": {
          "base_uri": "https://localhost:8080/"
        },
        "id": "KN1izwhHJuUx",
        "outputId": "54fc33e2-c7d8-4a9d-f611-85ebd6220b16"
      },
      "execution_count": 49,
      "outputs": [
        {
          "output_type": "stream",
          "name": "stdout",
          "text": [
            "learned : learn\n",
            "learning : learn\n",
            "learn : learn\n",
            "learns : learn\n",
            "learner : learner\n",
            "learners : learner\n"
          ]
        }
      ]
    },
    {
      "cell_type": "code",
      "source": [
        "likes_tokens = ['likes','better','worse']"
      ],
      "metadata": {
        "id": "7qk9MnBUJ0SS"
      },
      "execution_count": 50,
      "outputs": []
    },
    {
      "cell_type": "code",
      "source": [
        "for t in likes_tokens:\n",
        "    print(t ,\":\",ps.stem(t))"
      ],
      "metadata": {
        "colab": {
          "base_uri": "https://localhost:8080/"
        },
        "id": "BP2YSK3SKBxR",
        "outputId": "3f9f21af-faed-417d-87ff-ec0a9f8bfe95"
      },
      "execution_count": 51,
      "outputs": [
        {
          "output_type": "stream",
          "name": "stdout",
          "text": [
            "likes : like\n",
            "better : better\n",
            "worse : wors\n"
          ]
        }
      ]
    },
    {
      "cell_type": "markdown",
      "source": [
        "# ***NLP Lemmatization***"
      ],
      "metadata": {
        "id": "YFZ1fFDoKqsx"
      }
    },
    {
      "cell_type": "code",
      "source": [
        "nltk.download('wordnet')\n",
        "from nltk.stem import WordNetLemmatizer"
      ],
      "metadata": {
        "colab": {
          "base_uri": "https://localhost:8080/"
        },
        "id": "mV_3jwr3KFLk",
        "outputId": "cf9d26f0-bb7d-4d3c-bb9d-f1aedce1c831"
      },
      "execution_count": 52,
      "outputs": [
        {
          "output_type": "stream",
          "name": "stderr",
          "text": [
            "[nltk_data] Downloading package wordnet to /root/nltk_data...\n"
          ]
        }
      ]
    },
    {
      "cell_type": "code",
      "source": [
        "lemmatizer = WordNetLemmatizer()"
      ],
      "metadata": {
        "id": "EvNqqUoJK_9y"
      },
      "execution_count": 53,
      "outputs": []
    },
    {
      "cell_type": "code",
      "source": [
        "for t in connect_tokens:\n",
        "    print(t, \":\",lemmatizer.lemmatize(t))"
      ],
      "metadata": {
        "colab": {
          "base_uri": "https://localhost:8080/"
        },
        "id": "klfLPKKwLHzF",
        "outputId": "77deb375-0e1e-4c9e-8ea5-535ced0a0255"
      },
      "execution_count": 54,
      "outputs": [
        {
          "output_type": "stream",
          "name": "stdout",
          "text": [
            "connecting : connecting\n",
            "connected : connected\n",
            "connectivity : connectivity\n",
            "connect : connect\n",
            "connects : connects\n"
          ]
        }
      ]
    },
    {
      "cell_type": "code",
      "source": [
        "for t in learn_tokens:\n",
        "    print(t, \":\",lemmatizer.lemmatize(t))"
      ],
      "metadata": {
        "colab": {
          "base_uri": "https://localhost:8080/"
        },
        "id": "9Dz4AXGULW9y",
        "outputId": "2b7c7f37-c333-4ab6-d5a5-92bd97ee00d2"
      },
      "execution_count": 55,
      "outputs": [
        {
          "output_type": "stream",
          "name": "stdout",
          "text": [
            "learned : learned\n",
            "learning : learning\n",
            "learn : learn\n",
            "learns : learns\n",
            "learner : learner\n",
            "learners : learner\n"
          ]
        }
      ]
    },
    {
      "cell_type": "code",
      "source": [
        "for t in likes_tokens:\n",
        "    print(t, \":\",lemmatizer.lemmatize(t))"
      ],
      "metadata": {
        "colab": {
          "base_uri": "https://localhost:8080/"
        },
        "id": "dzUOfIyjXVma",
        "outputId": "f127ae88-cc17-40df-a88e-72819401049a"
      },
      "execution_count": 56,
      "outputs": [
        {
          "output_type": "stream",
          "name": "stdout",
          "text": [
            "likes : like\n",
            "better : better\n",
            "worse : worse\n"
          ]
        }
      ]
    },
    {
      "cell_type": "markdown",
      "source": [
        "# ***NLP N-GRAMS***"
      ],
      "metadata": {
        "id": "o-n974CMIWST"
      }
    },
    {
      "cell_type": "code",
      "source": [
        "import nltk\n",
        "import pandas as pd\n",
        "import matplotlib.pyplot as plt"
      ],
      "metadata": {
        "id": "csNQuy5jYmiq"
      },
      "execution_count": 71,
      "outputs": []
    },
    {
      "cell_type": "code",
      "source": [
        "tokens = ['the','rise','of','artificial','intelligence','has','led','to','significant','advancements','in',\n",
        "          'natural','language','processing','computer','vision','and','other','field','machine','learning',\n",
        "          'algorithms','are','becoming','more','sophisticated','enabling','computers','to','perform',\n",
        "          'complex','tasks','that','were','once','thought','to','be','the','exclusive','domain','of',\n",
        "          'humans','with','the','advent','of','deep','learning','neural','networks','have','become',\n",
        "          'even','more','powerful','capable','of','processing','vast','amounts','of','data','and',\n",
        "          'learning','from','it','in','ways','that','were','not','possible','before','as','a','result',\n",
        "          'ai','is','increasingly','being','used','in','a','wide','range','of','industries','from',\n",
        "          'healthcare','to','finance','to','transportation','and','its','impact','is','only','set',\n",
        "          'to','grow','in','the','years','to','come']\n",
        "print(tokens)"
      ],
      "metadata": {
        "colab": {
          "base_uri": "https://localhost:8080/"
        },
        "id": "7zE3W6jSi9Cx",
        "outputId": "4c356cf0-7916-466a-ed48-40123d0368ad"
      },
      "execution_count": 72,
      "outputs": [
        {
          "output_type": "stream",
          "name": "stdout",
          "text": [
            "['the', 'rise', 'of', 'artificial', 'intelligence', 'has', 'led', 'to', 'significant', 'advancements', 'in', 'natural', 'language', 'processing', 'computer', 'vision', 'and', 'other', 'field', 'machine', 'learning', 'algorithms', 'are', 'becoming', 'more', 'sophisticated', 'enabling', 'computers', 'to', 'perform', 'complex', 'tasks', 'that', 'were', 'once', 'thought', 'to', 'be', 'the', 'exclusive', 'domain', 'of', 'humans', 'with', 'the', 'advent', 'of', 'deep', 'learning', 'neural', 'networks', 'have', 'become', 'even', 'more', 'powerful', 'capable', 'of', 'processing', 'vast', 'amounts', 'of', 'data', 'and', 'learning', 'from', 'it', 'in', 'ways', 'that', 'were', 'not', 'possible', 'before', 'as', 'a', 'result', 'ai', 'is', 'increasingly', 'being', 'used', 'in', 'a', 'wide', 'range', 'of', 'industries', 'from', 'healthcare', 'to', 'finance', 'to', 'transportation', 'and', 'its', 'impact', 'is', 'only', 'set', 'to', 'grow', 'in', 'the', 'years', 'to', 'come']\n"
          ]
        }
      ]
    },
    {
      "cell_type": "code",
      "source": [
        "unigrams = (pd.Series(nltk.ngrams(tokens, 1)).value_counts())\n",
        "print(unigrams)"
      ],
      "metadata": {
        "colab": {
          "base_uri": "https://localhost:8080/"
        },
        "id": "47s5s3mspBa0",
        "outputId": "36ac026d-3697-47e7-c17f-67186f208a51"
      },
      "execution_count": 73,
      "outputs": [
        {
          "output_type": "stream",
          "name": "stdout",
          "text": [
            "(to,)          7\n",
            "(of,)          6\n",
            "(the,)         4\n",
            "(in,)          4\n",
            "(learning,)    3\n",
            "              ..\n",
            "(humans,)      1\n",
            "(rise,)        1\n",
            "(advent,)      1\n",
            "(deep,)        1\n",
            "(come,)        1\n",
            "Length: 79, dtype: int64\n"
          ]
        }
      ]
    },
    {
      "cell_type": "code",
      "source": [
        "unigrams[:10].sort_values().plot.barh(color=\"lightsalmon\",width=9,figsize=(12,8))\n",
        "plt.title(\"10 Most frequently occuring unigrams\")"
      ],
      "metadata": {
        "colab": {
          "base_uri": "https://localhost:8080/",
          "height": 716
        },
        "id": "G70w8uWirHES",
        "outputId": "f5554711-474b-4835-9fa7-74af0fe27bc6"
      },
      "execution_count": 74,
      "outputs": [
        {
          "output_type": "execute_result",
          "data": {
            "text/plain": [
              "Text(0.5, 1.0, '10 Most frequently occuring unigrams')"
            ]
          },
          "metadata": {},
          "execution_count": 74
        },
        {
          "output_type": "display_data",
          "data": {
            "text/plain": [
              "<Figure size 1200x800 with 1 Axes>"
            ],
            "image/png": "[encoded data removed]"
          },
          "metadata": {}
        }
      ]
    },
    {
      "cell_type": "code",
      "source": [
        "bigrams = (pd.Series(nltk.ngrams(tokens, 2)).value_counts())\n",
        "print(bigrams[:10])"
      ],
      "metadata": {
        "colab": {
          "base_uri": "https://localhost:8080/"
        },
        "id": "vQGYAzkVwpG1",
        "outputId": "e3d9d763-61c4-40d3-cbcf-7f5079c04f04"
      },
      "execution_count": 75,
      "outputs": [
        {
          "output_type": "stream",
          "name": "stdout",
          "text": [
            "(that, were)             2\n",
            "(the, rise)              1\n",
            "(increasingly, being)    1\n",
            "(ai, is)                 1\n",
            "(result, ai)             1\n",
            "(a, result)              1\n",
            "(as, a)                  1\n",
            "(before, as)             1\n",
            "(possible, before)       1\n",
            "(not, possible)          1\n",
            "dtype: int64\n"
          ]
        }
      ]
    },
    {
      "cell_type": "code",
      "source": [
        "trigrams = (pd.Series(nltk.ngrams(tokens,3)).value_counts())\n",
        "print(trigrams[:10])"
      ],
      "metadata": {
        "colab": {
          "base_uri": "https://localhost:8080/"
        },
        "id": "9byeUBRxySxT",
        "outputId": "8ed2cc28-ae15-402e-e0f4-c41dd336e167"
      },
      "execution_count": 77,
      "outputs": [
        {
          "output_type": "stream",
          "name": "stdout",
          "text": [
            "(the, rise, of)            1\n",
            "(even, more, powerful)     1\n",
            "(ai, is, increasingly)     1\n",
            "(result, ai, is)           1\n",
            "(a, result, ai)            1\n",
            "(as, a, result)            1\n",
            "(before, as, a)            1\n",
            "(possible, before, as)     1\n",
            "(not, possible, before)    1\n",
            "(were, not, possible)      1\n",
            "dtype: int64\n"
          ]
        }
      ]
    },
    {
      "cell_type": "code",
      "source": [],
      "metadata": {
        "id": "V3EzZQx-zfPs"
      },
      "execution_count": null,
      "outputs": []
    }
  ]
}